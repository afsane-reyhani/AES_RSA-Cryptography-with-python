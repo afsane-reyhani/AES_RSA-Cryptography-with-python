{
 "cells": [
  {
   "cell_type": "markdown",
   "metadata": {},
   "source": [
    "# imports"
   ]
  },
  {
   "cell_type": "code",
   "execution_count": 1,
   "metadata": {},
   "outputs": [
    {
     "name": "stdout",
     "output_type": "stream",
     "text": [
      "importing Jupyter notebook from aes_rsa.ipynb\n"
     ]
    }
   ],
   "source": [
    "import import_ipynb\n",
    "import aes_rsa as ar\n",
    "import time"
   ]
  },
  {
   "cell_type": "markdown",
   "metadata": {},
   "source": [
    "# create account"
   ]
  },
  {
   "cell_type": "code",
   "execution_count": 2,
   "metadata": {},
   "outputs": [
    {
     "name": "stdout",
     "output_type": "stream",
     "text": [
      "input number of account :2\n",
      "--- 3.029609441757202 seconds ---\n"
     ]
    }
   ],
   "source": [
    "start_time = time.time()\n",
    "n=1\n",
    "number_account=ar.number_account(n)\n",
    "print(\"--- %s seconds ---\" % (time.time() - start_time))"
   ]
  },
  {
   "cell_type": "code",
   "execution_count": 3,
   "metadata": {},
   "outputs": [
    {
     "name": "stdout",
     "output_type": "stream",
     "text": [
      "input account name :a\n",
      "input account name :b\n",
      "--- 3.5369811058044434 seconds ---\n"
     ]
    }
   ],
   "source": [
    "start_time = time.time()\n",
    "list_name_account=ar.list_name_account(number_account)\n",
    "print(\"--- %s seconds ---\" % (time.time() - start_time))"
   ]
  },
  {
   "cell_type": "code",
   "execution_count": 4,
   "metadata": {},
   "outputs": [
    {
     "name": "stdout",
     "output_type": "stream",
     "text": [
      "--- 0.01399087905883789 seconds ---\n"
     ]
    }
   ],
   "source": [
    "start_time = time.time()\n",
    "root_path = 'C:/Users/User/Desktop/file_accuont'\n",
    "ar.create_account(list_name_account,root_path)\n",
    "print(\"--- %s seconds ---\" % (time.time() - start_time))"
   ]
  },
  {
   "cell_type": "markdown",
   "metadata": {},
   "source": [
    "# key generation"
   ]
  },
  {
   "cell_type": "code",
   "execution_count": 5,
   "metadata": {},
   "outputs": [
    {
     "data": {
      "text/plain": [
       "['a', 'b']"
      ]
     },
     "execution_count": 5,
     "metadata": {},
     "output_type": "execute_result"
    }
   ],
   "source": [
    "list_name_account=list_name_account[:-1]\n",
    "list_name_account"
   ]
  },
  {
   "cell_type": "code",
   "execution_count": 6,
   "metadata": {},
   "outputs": [
    {
     "name": "stdout",
     "output_type": "stream",
     "text": [
      "input your password :aaa\n",
      "input your password :bbb\n",
      "--- 820.913468837738 seconds ---\n"
     ]
    }
   ],
   "source": [
    "start_time = time.time()\n",
    "pub_key_path='C:/Users/User/Desktop/file_accuont/public_key/'\n",
    "private_key_path= 'C:/Users/User/Desktop/file_accuont/'\n",
    "ar.key_genration_RSA(list_name_account,pub_key_path,private_key_path)\n",
    "print(\"--- %s seconds ---\" % (time.time() - start_time))"
   ]
  },
  {
   "cell_type": "markdown",
   "metadata": {},
   "source": [
    "# encryption_file"
   ]
  },
  {
   "cell_type": "code",
   "execution_count": 8,
   "metadata": {},
   "outputs": [
    {
     "name": "stdout",
     "output_type": "stream",
     "text": [
      "--- 0.34581446647644043 seconds ---\n"
     ]
    }
   ],
   "source": [
    "start_time = time.time()\n",
    "# plaintext_path\n",
    "in_file_path_for_encryption='C:/Users/User/Desktop/file_accuont/plaintext/test.xlsx'\n",
    "#ciphertext_path\n",
    "out_file_encryption='C:/Users/User/Desktop/file_accuont/ciphertext/'\n",
    "# public_key_path \n",
    "public_key_path='C:/Users/User/Desktop/file_accuont/public_key/'+'a.pem'\n",
    "ar.aes_encryption(in_file_path_for_encryption,out_file_encryption,public_key_path)\n",
    "print(\"--- %s seconds ---\" % (time.time() - start_time))"
   ]
  },
  {
   "cell_type": "markdown",
   "metadata": {},
   "source": [
    "# decryption file"
   ]
  },
  {
   "cell_type": "code",
   "execution_count": 10,
   "metadata": {
    "scrolled": true
   },
   "outputs": [
    {
     "name": "stdout",
     "output_type": "stream",
     "text": [
      "input your password :aaa\n"
     ]
    },
    {
     "ename": "PermissionError",
     "evalue": "[WinError 32] The process cannot access the file because it is being used by another process: 'C:/Users/User/Desktop/file_accuont/decryption/p.pem'",
     "output_type": "error",
     "traceback": [
      "\u001b[1;31m---------------------------------------------------------------------------\u001b[0m",
      "\u001b[1;31mPermissionError\u001b[0m                           Traceback (most recent call last)",
      "\u001b[1;32m<ipython-input-10-97b0baac6d88>\u001b[0m in \u001b[0;36m<module>\u001b[1;34m\u001b[0m\n\u001b[0;32m      6\u001b[0m \u001b[1;31m# private_key_path\u001b[0m\u001b[1;33m\u001b[0m\u001b[1;33m\u001b[0m\u001b[1;33m\u001b[0m\u001b[0m\n\u001b[0;32m      7\u001b[0m \u001b[0mpriv_key_path\u001b[0m\u001b[1;33m=\u001b[0m\u001b[1;34m'C:/Users/User/Desktop/file_accuont/a/a.txt'\u001b[0m\u001b[1;33m\u001b[0m\u001b[1;33m\u001b[0m\u001b[0m\n\u001b[1;32m----> 8\u001b[1;33m \u001b[0mar\u001b[0m\u001b[1;33m.\u001b[0m\u001b[0maes_decryption\u001b[0m\u001b[1;33m(\u001b[0m\u001b[0min_file_ciphertext\u001b[0m\u001b[1;33m,\u001b[0m\u001b[0mout_file_decryption\u001b[0m\u001b[1;33m,\u001b[0m\u001b[0mpriv_key_path\u001b[0m\u001b[1;33m)\u001b[0m\u001b[1;33m\u001b[0m\u001b[1;33m\u001b[0m\u001b[0m\n\u001b[0m\u001b[0;32m      9\u001b[0m \u001b[0mprint\u001b[0m\u001b[1;33m(\u001b[0m\u001b[1;34m\"--- %s seconds ---\"\u001b[0m \u001b[1;33m%\u001b[0m \u001b[1;33m(\u001b[0m\u001b[0mtime\u001b[0m\u001b[1;33m.\u001b[0m\u001b[0mtime\u001b[0m\u001b[1;33m(\u001b[0m\u001b[1;33m)\u001b[0m \u001b[1;33m-\u001b[0m \u001b[0mstart_time\u001b[0m\u001b[1;33m)\u001b[0m\u001b[1;33m)\u001b[0m\u001b[1;33m\u001b[0m\u001b[1;33m\u001b[0m\u001b[0m\n",
      "\u001b[1;32m~\\Desktop\\file_code\\aes_rsa.ipynb\u001b[0m in \u001b[0;36maes_decryption\u001b[1;34m(in_file_ciphertext, out_file_decryption, priv_key_path)\u001b[0m\n",
      "\u001b[1;31mPermissionError\u001b[0m: [WinError 32] The process cannot access the file because it is being used by another process: 'C:/Users/User/Desktop/file_accuont/decryption/p.pem'"
     ]
    }
   ],
   "source": [
    "start_time = time.time()\n",
    "#ciphertext_path\n",
    "in_file_ciphertext='C:/Users/User/Desktop/file_accuont/ciphertext/encryption.txt'\n",
    "# decryption_path\n",
    "out_file_decryption='C:/Users/User/Desktop/file_accuont/decryption/'\n",
    "# private_key_path\n",
    "priv_key_path='C:/Users/User/Desktop/file_accuont/a/a.txt'\n",
    "ar.aes_decryption(in_file_ciphertext,out_file_decryption,priv_key_path)\n",
    "print(\"--- %s seconds ---\" % (time.time() - start_time))"
   ]
  },
  {
   "cell_type": "code",
   "execution_count": null,
   "metadata": {},
   "outputs": [],
   "source": []
  }
 ],
 "metadata": {
  "kernelspec": {
   "display_name": "Python 3",
   "language": "python",
   "name": "python3"
  },
  "language_info": {
   "codemirror_mode": {
    "name": "ipython",
    "version": 3
   },
   "file_extension": ".py",
   "mimetype": "text/x-python",
   "name": "python",
   "nbconvert_exporter": "python",
   "pygments_lexer": "ipython3",
   "version": "3.8.5"
  }
 },
 "nbformat": 4,
 "nbformat_minor": 4
}
