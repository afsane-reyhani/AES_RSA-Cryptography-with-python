{
 "cells": [
  {
   "cell_type": "markdown",
   "metadata": {},
   "source": [
    "# imports"
   ]
  },
  {
   "cell_type": "code",
   "execution_count": 1,
   "metadata": {},
   "outputs": [],
   "source": [
    "import os, random, struct\n",
    "from Crypto.Cipher import AES\n",
    "import hashlib\n",
    "from Crypto.Cipher import PKCS1_OAEP\n",
    "import binascii\n",
    "from Crypto.PublicKey import RSA"
   ]
  },
  {
   "cell_type": "markdown",
   "metadata": {},
   "source": [
    "# create account"
   ]
  },
  {
   "cell_type": "code",
   "execution_count": 2,
   "metadata": {},
   "outputs": [],
   "source": [
    "def number_account(n):\n",
    "    return int(input(\"input number of account :\"))"
   ]
  },
  {
   "cell_type": "code",
   "execution_count": 3,
   "metadata": {},
   "outputs": [],
   "source": [
    "def list_name_account(number_account):\n",
    "                      list_name_account=[]\n",
    "                      for i in range(number_account):\n",
    "                            list_name_account.append(input(\"input account name :\"))\n",
    "                      return list_name_account"
   ]
  },
  {
   "cell_type": "code",
   "execution_count": 4,
   "metadata": {},
   "outputs": [],
   "source": [
    "def create_account(list_name_account,root_path):\n",
    "                folders = list_name_account\n",
    "                folders.append('public_key')\n",
    "                for folder in folders:\n",
    "                      os.mkdir(os.path.join(root_path,folder))"
   ]
  },
  {
   "cell_type": "markdown",
   "metadata": {},
   "source": [
    "# padding file AES"
   ]
  },
  {
   "cell_type": "code",
   "execution_count": 5,
   "metadata": {},
   "outputs": [],
   "source": [
    "def pad_f(file):\n",
    "    while len(file) % 16 != 0:\n",
    "        file=file + b'0'\n",
    "    return file"
   ]
  },
  {
   "cell_type": "markdown",
   "metadata": {},
   "source": [
    "# key generation "
   ]
  },
  {
   "cell_type": "code",
   "execution_count": 6,
   "metadata": {},
   "outputs": [],
   "source": [
    "def key_genration_RSA(list_name_account,pub_key_path,private_key_path):\n",
    "    for i in list_name_account:\n",
    "        password =  input(\"input your password :\")   \n",
    "        key_aes  =  hashlib.sha256(password.encode(encoding='UTF-8')).digest()\n",
    "        IV       =  os.urandom(16)\n",
    "        keyPair  =  RSA.generate(7680)\n",
    "        privKey  =  keyPair.exportKey('PEM')  \n",
    "        pubKey   =  keyPair.publickey().exportKey('PEM')\n",
    "        mode=AES.MODE_CBC\n",
    "        cipher = AES.new(key_aes,mode,IV)\n",
    "        with open(pub_key_path+i+'.pem', 'wb') as file:  \n",
    "                file.write(pubKey)\n",
    "        with open(private_key_path+i+'/'+i+'.pem', 'wb') as file:  \n",
    "                file.write(privKey)\n",
    "        with open(private_key_path+i+'/'+i+'.pem',\"rb\") as f:\n",
    "              orig_file=f.read()\n",
    "        padded_file= pad_f(orig_file)\n",
    "        filesize = os.path.getsize(private_key_path+i+'/'+i+'.pem')\n",
    "        with open(private_key_path+i+'/'+i+'.txt', 'wb') as outfile:\n",
    "            outfile.write(struct.pack('<Q', filesize))\n",
    "            outfile.write(IV)\n",
    "            outfile.write(cipher.encrypt(padded_file))\n",
    "        with open(private_key_path+i+'/'+i+'.pem', 'wb') as file:  \n",
    "                file.write(os.urandom(int(filesize)))\n",
    "        os.remove(private_key_path+i+'/'+i+'.pem')"
   ]
  },
  {
   "cell_type": "markdown",
   "metadata": {},
   "source": [
    "# encryption_file"
   ]
  },
  {
   "cell_type": "code",
   "execution_count": 7,
   "metadata": {},
   "outputs": [],
   "source": [
    "def aes_encryption(in_file_path_for_encryption,out_file_encryption,public_key_path):\n",
    "    Key=hashlib.sha256(os.urandom(32)).digest()\n",
    "    IV=os.urandom(16)\n",
    "    mode=AES.MODE_CBC\n",
    "    cipher=AES.new(Key,mode,IV)\n",
    "    with open(in_file_path_for_encryption,\"rb\") as f:\n",
    "          orig_file=f.read()\n",
    "    padded_file= pad_f(orig_file)\n",
    "    f1 = open(public_key_path, 'rb')  \n",
    "    pubKey = RSA.importKey(f1.read())  \n",
    "    encryptor = PKCS1_OAEP.new(pubKey)\n",
    "    encrypted_key = encryptor.encrypt(Key)\n",
    "    with open(out_file_encryption+\"key\"+'.txt', 'wb') as outfile:\n",
    "            outfile.write(encrypted_key)\n",
    "    filesize_key=os.path.getsize(out_file_encryption+\"key\"+'.txt')\n",
    "    os.remove(out_file_encryption+\"key\"+'.txt')\n",
    "    filesize = os.path.getsize(in_file_path_for_encryption)\n",
    "    with open(out_file_encryption+\"encryption\"+'.txt', 'wb') as outfile:\n",
    "            outfile.write(struct.pack('<Q', filesize))\n",
    "            outfile.write(struct.pack('<Q', filesize_key))\n",
    "            outfile.write(IV)\n",
    "            outfile.write(encrypted_key)\n",
    "            outfile.write(cipher.encrypt(padded_file))"
   ]
  },
  {
   "cell_type": "markdown",
   "metadata": {},
   "source": [
    "# decryption_file"
   ]
  },
  {
   "cell_type": "code",
   "execution_count": 8,
   "metadata": {},
   "outputs": [],
   "source": [
    "def aes_decryption(in_file_ciphertext,out_file_decryption,priv_key_path):\n",
    "    password =  input(\"input your password :\")   \n",
    "    key_aes  =  hashlib.sha256(password.encode(encoding='UTF-8')).digest()\n",
    "    mode=AES.MODE_CBC\n",
    "    with open(priv_key_path, 'rb') as infile:\n",
    "        origsize1 = struct.unpack('<Q', infile.read(struct.calcsize('Q')))[0]\n",
    "        IV = infile.read(16)\n",
    "        decryptor=AES.new(key_aes,mode,IV)\n",
    "        with open(out_file_decryption+'p'+'.pem', 'wb') as file:  \n",
    "                file.write(decryptor.decrypt(infile.read()))\n",
    "                file.truncate(origsize1)\n",
    "    with open(in_file_ciphertext, 'rb') as infile:\n",
    "        origsize = struct.unpack('<Q', infile.read(struct.calcsize('Q')))[0]\n",
    "        key_size = struct.unpack('<Q', infile.read(struct.calcsize('Q')))[0]\n",
    "        iv = infile.read(16)\n",
    "        secretkey=infile.read(key_size)#960\n",
    "        f = open(out_file_decryption+'p'+'.pem', 'rb')  \n",
    "        key = RSA.importKey(f.read())\n",
    "        decryptor = PKCS1_OAEP.new(key)\n",
    "        decrypted_aes_key = decryptor.decrypt(secretkey)\n",
    "        mode=AES.MODE_CBC\n",
    "        decryptor=AES.new(decrypted_aes_key,mode,iv)\n",
    "        with open(out_file_decryption+\"decryption\"+'.xlsx','wb') as outfile:\n",
    "                 outfile.write(decryptor.decrypt(infile.read()))\n",
    "                 outfile.truncate(origsize)\n",
    "    with  open(out_file_decryption+'p'+'.pem', 'wb') as file:  \n",
    "                file.write(os.urandom(int(origsize1)))\n",
    "    #file.close()\n",
    "    os.remove(out_file_decryption+'p'+'.pem')"
   ]
  },
  {
   "cell_type": "markdown",
   "metadata": {},
   "source": [
    "#ciphertext_path\n",
    "in_file_ciphertext='C:/Users/User/Desktop/file_accuont/ciphertext/encryption.txt'\n",
    "# decryption_path\n",
    "out_file_decryption='C:/Users/User/Desktop/file_accuont/decryption/'\n",
    "# private_key_path\n",
    "priv_key_path='C:/Users/User/Desktop/file_accuont/a/a.txt'\n",
    "#aes_decryption(in_file_ciphertext,out_file_decryption,priv_key_path)\n"
   ]
  },
  {
   "cell_type": "code",
   "execution_count": null,
   "metadata": {},
   "outputs": [],
   "source": []
  }
 ],
 "metadata": {
  "kernelspec": {
   "display_name": "Python 3",
   "language": "python",
   "name": "python3"
  },
  "language_info": {
   "codemirror_mode": {
    "name": "ipython",
    "version": 3
   },
   "file_extension": ".py",
   "mimetype": "text/x-python",
   "name": "python",
   "nbconvert_exporter": "python",
   "pygments_lexer": "ipython3",
   "version": "3.8.5"
  }
 },
 "nbformat": 4,
 "nbformat_minor": 4
}
